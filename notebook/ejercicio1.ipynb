{
 "cells": [
  {
   "cell_type": "markdown",
   "metadata": {},
   "source": [
    "# Trabajo Practico 2\n",
    "### Ejercicio 1.  Análisis del Zen de Python\n",
    "####  Copie el texto del Zen de Python en una variable e imprima todas las líneas cuya segunda ### palabra comience con una vocal (A, E, I, O, U, a, e, i, o, u)"
   ]
  },
  {
   "cell_type": "code",
   "execution_count": null,
   "metadata": {},
   "outputs": [],
   "source": [
    "zen_text = \"\"\"Beautiful is better than ugly.\n",
    "Explicit is better than implicit.\n",
    "Simple is better than complex.\n",
    "Complex is better than complicated.\n",
    "Flat is better than nested.\n",
    "Sparse is better than dense.\n",
    "Readability counts.\n",
    "Special cases aren't special enough to break the rules.\n",
    "Although practicality beats purity.\n",
    "Errors should never pass silently.\n",
    "Unless explicitly silenced.\n",
    "In the face of ambiguity, refuse the temptation to guess.\n",
    "There should be one-- and preferably only one --obvious way to do it.\n",
    "Although that way may not be obvious at first unless you're Dutch.\n",
    "Now is better than never.\n",
    "Although never is often better than *right* now.\n",
    "If the implementation is hard to explain, it's a bad idea.\n",
    "If the implementation is easy to explain, it may be a good idea.\n",
    "Namespaces are one honking great idea -- let's do more of those!\n",
    "\"\"\"\n",
    "lista = zen_text.split('.')\n",
    "word= \"aeiouAEIOU\"\n",
    "nueva_lista= [oracion.strip().split() for oracion in lista]\n",
    "num= len(lista)\n",
    "for i in range(num):\n",
    "    print(lista[i] if nueva_lista[i][1][0] in word else '')"
   ]
  },
  {
   "cell_type": "markdown",
   "metadata": {},
   "source": [
    "### Ejercicio 2. Título más largo\n",
    "####  Dado un listado de títulos de streams en Twitch, encuentre el título con más palabras y muéstrelo en pantalla."
   ]
  },
  {
   "cell_type": "code",
   "execution_count": 16,
   "metadata": {},
   "outputs": [
    {
     "name": "stdout",
     "output_type": "stream",
     "text": [
      "El titulo con mayor cantidad de palabras es: Jugando al nuevo FPS del momento con amigos\n"
     ]
    }
   ],
   "source": [
    "titles = [\n",
    " \"Speedrun de Super Mario en tiempo récord\",\n",
    "\"Charla sobre desarrollo de videojuegos\",\n",
    " \"Jugando al nuevo FPS del momento con amigos\",\n",
    " \"Música en vivo: improvisaciones al piano\"\n",
    " ]\n",
    "new_titles = [title.strip().split() for title in titles]\n",
    "max_count = 0\n",
    "for i in range(len(new_titles)):\n",
    "   if len(new_titles[i]) > max_count:\n",
    "      max_count= len(new_titles[i])\n",
    "      orden = i\n",
    "print(f'El titulo con mayor cantidad de palabras es: {titles[orden]}')\n",
    "\n"
   ]
  },
  {
   "cell_type": "markdown",
   "metadata": {},
   "source": [
    "## Ejercicio 3. Código de conducta\n",
    "###  Dado un código de conducta para un servidor de Discord, solicite una palabra clave al usuario e imprima todas las reglas que la contengan."
   ]
  },
  {
   "cell_type": "code",
   "execution_count": null,
   "metadata": {},
   "outputs": [],
   "source": [
    "rules = \"\"\"Respeta a los demás. No se permiten insultos ni lenguaje\n",
    " ofensivo.\n",
    " Evita el spam. No publiques enlaces sospechosos o repetitivos.\n",
    " No compartas información personal.\n",
    " Usa los canales adecuados para cada tema.\n",
    " Sigue las instrucciones de los moderadores.\"\"\"\n",
    "list = rules.split('.')\n",
    "new_list = [rule.strip().split() for rule in list]\n",
    "word = input('Ingrese una palabra clave: ')\n",
    "for i in range(len(list)):\n",
    "    print(list[i] if word in new_list[i] else \"\")  \n",
    "    \n",
    "\n",
    " "
   ]
  },
  {
   "cell_type": "markdown",
   "metadata": {},
   "source": [
    "## Ejercicio  4. Validación de nombre de usuario\n",
    "###  Valide un nombre de usuario con los siguientes criterios:\n",
    " #### Al menos 5 caracteres.\n",
    " #### Contiene al menos un número.\n",
    " #### Contiene al menos una letra mayúscula.\n",
    " #### Solo puede contener letras y números"
   ]
  },
  {
   "cell_type": "code",
   "execution_count": null,
   "metadata": {},
   "outputs": [],
   "source": [
    "usuario= input('Ingrese un nombre de usuario: ')\n",
    "requisito_uno = False\n",
    "if len(usuario) >= 5:\n",
    "    requisito_uno = True\n",
    "requisito_dos = False\n",
    "for letter in usuario:\n",
    "    if letter>= \"0\" and letter<= \"9\":\n",
    "        requisito_dos= True\n",
    "        break \n",
    "requisito_tres= False\n",
    "for letter in usuario:\n",
    "    if letter >= \"A\" and letter <= \"Z\":\n",
    "        requisito_tres = True\n",
    "        break\n",
    "requisito_cuatro = True\n",
    "for letter in usuario:\n",
    "        if not(48 <= ord(letter) <= 57 or 65 <= ord(letter) <= 90 or 97 <= ord(letter) <= 122):\n",
    "           requisito_cuatro = False\n",
    "           break\n",
    "if ((requisito_uno) and (requisito_dos) and (requisito_tres) and (requisito_cuatro)):\n",
    "    print('El nombre de usuario es valido')\n",
    "else:\n",
    "    print('El nombre de usuario no cumple con los requisitos')\n",
    "    "
   ]
  },
  {
   "cell_type": "markdown",
   "metadata": {},
   "source": [
    "## Ejercicio 5. Clasificación de velocidad de reacción en un juego\n",
    "###  Dado el tiempo de reacción de un jugador en milisegundos, clasifíquelo en las siguientes categorías:\n",
    "####  Menos de 200 ms: Rápido\n",
    "#### Entre 200 y 500 ms: Normal\n",
    "#### Más de 500 ms: Lento"
   ]
  },
  {
   "cell_type": "code",
   "execution_count": 9,
   "metadata": {},
   "outputs": [
    {
     "name": "stdout",
     "output_type": "stream",
     "text": [
      "Categoria: Normal\n"
     ]
    }
   ],
   "source": [
    "tiempo_reaccion= int(input(' Ingrese su tiempo de reacción en ms: '))\n",
    "if tiempo_reaccion < 200:\n",
    "    print(\"Categoria: Rápido\")\n",
    "elif 200 <= tiempo_reaccion <= 500:\n",
    "    print(\"Categoria: Normal\")\n",
    "else:\n",
    "    print(\"Categoria: Lento\")"
   ]
  },
  {
   "cell_type": "markdown",
   "metadata": {},
   "source": [
    "### Ejercicio 6. Análisis de descripciones de una plataforma de stream\n",
    "#### Dadas varias descripciones de streams en Twitch, cuente cuántas menciones hay de \"entretenimiento\", \"música\" y \"charla\". "
   ]
  },
  {
   "cell_type": "code",
   "execution_count": 20,
   "metadata": {},
   "outputs": [
    {
     "name": "stdout",
     "output_type": "stream",
     "text": [
      "Menciones de 'música': 4\n",
      "Menciones de 'entretenimiento': 1\n",
      "Menciones de 'charla': 2\n"
     ]
    }
   ],
   "source": [
    "descriptions = [\n",
    " \"Streaming de música en vivo con covers y composiciones\",\n",
    " \"Charla interactiva con la audiencia sobre series y películas\",\n",
    " \"Jugamos a juegos retro y charlamos sobre su historia\",\n",
    " \"Exploramos la mejor música de los 80s y 90s\",\n",
    " \"Programa de entretenimiento con noticias y curiosidades del mundo gamer\",\n",
    " \"Sesión de charla con invitados especiales del mundo del streaming\",\n",
    " \"Música en directo con improvisaciones y peticiones del chat\",\n",
    " \"Un espacio para charlar relajada sobre tecnología y cultura digital\",\n",
    " \"Exploramos el impacto de la música en los videojuegos clásicos\"\n",
    " ]\n",
    "#new_descriptions = [oracion.sprip().split() for oracion in descriptions]\n",
    "count_musica= 0\n",
    "count_entretenimiento= 0 \n",
    "count_charla= 0 \n",
    "for i in range(len(descriptions)):\n",
    "    count_musica += descriptions[i].lower().count('música ')\n",
    "    count_entretenimiento += descriptions[i].lower().count('entretenimiento ')\n",
    "    count_charla += descriptions[i].lower().count('charla ')\n",
    "print(f\"Menciones de 'música': {count_musica}\")\n",
    "print(f\"Menciones de 'entretenimiento': {count_entretenimiento}\")\n",
    "print(f\"Menciones de 'charla': {count_charla}\")\n",
    "\n",
    "\n",
    "\n"
   ]
  }
 ],
 "metadata": {
  "kernelspec": {
   "display_name": "venv",
   "language": "python",
   "name": "python3"
  },
  "language_info": {
   "codemirror_mode": {
    "name": "ipython",
    "version": 3
   },
   "file_extension": ".py",
   "mimetype": "text/x-python",
   "name": "python",
   "nbconvert_exporter": "python",
   "pygments_lexer": "ipython3",
   "version": "3.12.9"
  }
 },
 "nbformat": 4,
 "nbformat_minor": 2
}
